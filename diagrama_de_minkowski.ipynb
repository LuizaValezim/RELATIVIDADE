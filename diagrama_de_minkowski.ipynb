{
 "cells": [
  {
   "cell_type": "markdown",
   "id": "30344614",
   "metadata": {},
   "source": [
    "# Diagrama de Minkowski\n",
    "\n",
    "Esse notebook apresenta um diagrama de Minkowski interativo."
   ]
  },
  {
   "cell_type": "markdown",
   "id": "cededd79",
   "metadata": {},
   "source": [
    "**Importando as bibliotecas**"
   ]
  },
  {
   "cell_type": "code",
   "execution_count": 2,
   "id": "93f23c96-8528-4cb0-b53f-7f7bfccc6b1e",
   "metadata": {},
   "outputs": [],
   "source": [
    "import matplotlib.pyplot as plt\n",
    "import matplotlib as mpl\n",
    "import numpy as np\n",
    "import math\n",
    "from ipywidgets import interact, interactive, fixed, interact_manual\n",
    "import ipywidgets as widgets\n",
    "from ipywidgets import FloatSlider\n",
    "%matplotlib inline"
   ]
  },
  {
   "cell_type": "markdown",
   "id": "049dc8f6",
   "metadata": {},
   "source": [
    "**Declarando as variáveis globais**"
   ]
  },
  {
   "cell_type": "code",
   "execution_count": 3,
   "id": "566a8837-e650-47c8-9530-0e8fa5f19304",
   "metadata": {},
   "outputs": [],
   "source": [
    "c = 3*1e8"
   ]
  },
  {
   "cell_type": "markdown",
   "id": "4a2daa5d",
   "metadata": {},
   "source": [
    "### Funções Auxiliares"
   ]
  },
  {
   "cell_type": "markdown",
   "id": "c9b09e5f",
   "metadata": {},
   "source": [
    "**Fator de Lorentz (gamma)**\n",
    "\n",
    "$$ \\gamma = \\frac{1}{\\sqrt{1 - \\frac{v^2}{c^2}}}  $$"
   ]
  },
  {
   "cell_type": "code",
   "execution_count": 4,
   "id": "96f6b46c-9593-4508-a879-77946dbd889a",
   "metadata": {},
   "outputs": [],
   "source": [
    "def calcula_gamma(v):\n",
    "    gamma = 1 / (1 - (v**2/c**2))**0.5\n",
    "    return gamma"
   ]
  },
  {
   "cell_type": "markdown",
   "id": "a89f5d5b",
   "metadata": {},
   "source": [
    "**Transformações de Lorentz**\n",
    "\n",
    "$$ \n",
    "x = \\gamma \\cdot (x' + v \\cdot t') \\\\\n",
    "t = \\gamma \\cdot (t' + \\frac {v}{c^2} \\cdot t')\n",
    "$$\n",
    "\n",
    "$$\n",
    "x' = \\gamma \\cdot (x - v \\cdot t) \\\\\n",
    "t' = \\gamma \\cdot (t - \\frac {v}{c^2} \\cdot t) \n",
    "$$\n",
    "\n",
    "Para simplificações de contas, consideramos a velocidade da luz ($c$) como sendo igual a 1, já que a unidade de medida utilizada para distância é proporcional à essa velocidade (como $sluz$).\n",
    "\n",
    "Assim, obtivemos as seguintes fórmulas simplificadas:\n",
    "$$\n",
    "x = \\frac{(x' + v \\cdot t')}{\\sqrt{1-v^2}} \\space \\space \\space \\space \\space\n",
    "t = \\frac{(t' + v \\cdot x')}{\\sqrt{1-v^2}} \n",
    "$$\n",
    "\n",
    "\n",
    "$$\n",
    "x' = \\frac{(x - v \\cdot t)}{\\sqrt{1-v^2}} \\space \\space \\space \\space \\space\n",
    "t' = \\frac{(t - v \\cdot x)}{\\sqrt{1-v^2}}\n",
    "$$"
   ]
  },
  {
   "cell_type": "code",
   "execution_count": 5,
   "id": "19e2a58f-fea6-4ddc-92b8-c3338165ec31",
   "metadata": {},
   "outputs": [],
   "source": [
    "# Para descobrirmos x e t\n",
    "def transf_lorentz(x_linha, t_linha, v):\n",
    "    x = (x_linha + t_linha*v) / (1-v**2)**0.5\n",
    "    t = (t_linha + x_linha*v) / (1-v**2)**0.5\n",
    "    return x, t\n",
    "\n",
    "# Para descobrirmos x_linha e t_linha\n",
    "def transf_lorentz_linha(x, t, v):\n",
    "    x_linha = (x - t*v) / (1-v**2)**0.5\n",
    "    t_linha = (t - x*v) / (1-v**2)**0.5\n",
    "    return x_linha, t_linha"
   ]
  },
  {
   "cell_type": "markdown",
   "id": "a2553e10",
   "metadata": {},
   "source": [
    "**Intervalo invariante**\n",
    "\n",
    "O intervalo invariante é o que consideramos como uma medida de “distância” que não muda, relacionada ao intervalo de tempo e ao deslocamento no espaço. Como o próprio nome diz, ele sempre deverá ser igual caso estejamos comparando dois eventos."
   ]
  },
  {
   "cell_type": "code",
   "execution_count": 6,
   "id": "29e53a00-5a67-431a-99c3-0c4f5f6c76b7",
   "metadata": {},
   "outputs": [],
   "source": [
    "# Calcula o intervalo invariante de um sistema\n",
    "def calcula_intervalo_invariante(x, t, l):\n",
    "    int_inv = round(t**2 - x**2, 2)\n",
    "    print(\"O intervalo invariante é de {0}: {1}\".format(l, int_inv))\n",
    "\n",
    "# Compara o intervalo invariante dos dois sistemas\n",
    "def compara_intervalo_invariante(x_a, t_a, x_b, t_b):\n",
    "    int_a = calcula_intervalo_invariante(x_a, t_a)\n",
    "    int_b = calcula_intervalo_invariante(x_b, t_b)\n",
    "    \n",
    "    if (int_a == int_b):\n",
    "        return True\n",
    "    else:\n",
    "        return False"
   ]
  },
  {
   "cell_type": "markdown",
   "id": "63d035eb",
   "metadata": {},
   "source": [
    "**Encontra o ângulo da reta**"
   ]
  },
  {
   "cell_type": "code",
   "execution_count": 7,
   "id": "7fb9c1cf",
   "metadata": {},
   "outputs": [],
   "source": [
    "def findAngle(M1, M2):\n",
    "     \n",
    "    # Store the tan value  of the angle\n",
    "    angle = abs((M2 - M1) / (1 + M1 * M2))\n",
    " \n",
    "    # Calculate tan inverse of the angle\n",
    "    angle_radians = math.atan(angle)\n",
    " \n",
    "    # Convert the angle from\n",
    "    # radian to degree\n",
    "    angle_degrees = math.degrees(angle_radians)\n",
    "    \n",
    "    # Print the result\n",
    "    #print (\"O ângulo formado é de: {0}\".format(round(angle_degrees, 4)))\n",
    "    \n",
    "    return angle_radians"
   ]
  },
  {
   "cell_type": "markdown",
   "id": "7e890a4d",
   "metadata": {},
   "source": [
    "**Desenha ponto e legenda**"
   ]
  },
  {
   "cell_type": "code",
   "execution_count": 8,
   "id": "88f3d2f5",
   "metadata": {},
   "outputs": [],
   "source": [
    "def draw_point(x, y, color):\n",
    "    plt.scatter(x, y, color=color)\n",
    "    txt_a = '('+ str(round(x,3)) + ', '+ str(round(y,3)) + ')'\n",
    "    plt.text(x + 0.3, y + 0.3, txt_a)    "
   ]
  },
  {
   "cell_type": "markdown",
   "id": "b8d61f27",
   "metadata": {},
   "source": [
    "### Função Principal"
   ]
  },
  {
   "cell_type": "code",
   "execution_count": 16,
   "id": "72e67426",
   "metadata": {
    "scrolled": false
   },
   "outputs": [
    {
     "data": {
      "application/vnd.jupyter.widget-view+json": {
       "model_id": "76296db2864b40948bc728246accbc9a",
       "version_major": 2,
       "version_minor": 0
      },
      "text/plain": [
       "interactive(children=(FloatSlider(value=0.5, description='v', max=1.0, step=0.01), FloatSlider(value=5.0, desc…"
      ]
     },
     "execution_count": 16,
     "metadata": {},
     "output_type": "execute_result"
    }
   ],
   "source": [
    "def diagram(v, x, ct, vlr_max):\n",
    "    \n",
    "    # Definindo os dominios de x\n",
    "    eixo_x = np.linspace(-vlr_max, vlr_max, num=1000)\n",
    "    \n",
    "    # Calculando o ângulo formado pelo eixo x_b\n",
    "    angle = findAngle(0, v) \n",
    "    # Calculando a tangente do eixo ct_b\n",
    "    tg = math.tan(angle)\n",
    "    inverted_tg = math.tan((2*math.pi/4) - angle)\n",
    " \n",
    "    # Retas formadas pela velocidade desejada\n",
    "    plt.plot(eixo_x, eixo_x*v, c=\"blue\", label=\"x_b\")\n",
    "    plt.plot(eixo_x, eixo_x*inverted_tg, c=\"blue\", label=\"ct_b\")\n",
    "    \n",
    "    # Retas formadas pela velocidade da luz\n",
    "    plt.plot(eixo_x, eixo_x, c=\"orange\")\n",
    "    plt.plot(eixo_x, -eixo_x, c=\"orange\")\n",
    "    \n",
    "    # Desenha reta entre eixo e evento B    \n",
    "    #plt.plot(eixo_x, eixo_x*v + ct - x*tg, c=\"yellow\")\n",
    "    #plt.plot(eixo_x, (eixo_x - x)*inverted_tg + ct, c=\"yellow\")  \n",
    "    \n",
    "    # Descobrindo os pontos para x_linha = 0 e ct_linha = 0\n",
    "    x_linha, ct_linha = transf_lorentz_linha(x, ct, v)\n",
    "    x1, ct1 = transf_lorentz(x_linha, 0, v)\n",
    "    x2, ct2 = transf_lorentz(0, ct_linha, v)\n",
    "    plt.plot([x, x1], [ct, ct1], c=\"purple\", linestyle='--')\n",
    "    plt.plot([x, x2], [ct, ct2], c=\"purple\", linestyle=\"--\")\n",
    "    plt.scatter(x1, ct1, color=\"purple\")\n",
    "    plt.scatter(x2, ct2, color=\"purple\")\n",
    "    \n",
    "    # Desenhando o evento em A em relação à A (sempre nulo)\n",
    "    draw_point(0, 0, 'red')\n",
    "    \n",
    "    # Desenhando o evento B (input)\n",
    "    draw_point(x, ct, 'purple')\n",
    "    \n",
    "    # Desenhando o evento em B em relação à A\n",
    "    print(\"\\nx = {0}, ct = {1}\".format(round(x,3), round(ct,3)))\n",
    "    print(\"x' = {0}, ct' = {1}\\n\".format(round(x,3), round(ct,3)))\n",
    "    \n",
    "    # Calcula o intervalo invariante\n",
    "    calcula_intervalo_invariante(x, ct, \"A\")\n",
    "    calcula_intervalo_invariante(x_linha, ct_linha, \"B\")\n",
    "    \n",
    "    plt.title('Diagrama de Minkowski')\n",
    "    plt.grid()    \n",
    "    plt.xlabel(\"x\")\n",
    "    plt.ylabel(\"ct\")\n",
    "    plt.ylim(-vlr_max, vlr_max)\n",
    "    plt.legend()\n",
    "    plt.show()\n",
    "    \n",
    "#btn_a = widgets.Button(description='Referencial parado')\n",
    "#display(btn_a)\n",
    "#def btn_eventhandler(obj):\n",
    "    #print(\"oi\")\n",
    "#btn_a.on_click(btn_eventhandler)\n",
    "\n",
    "interactive_plot = interactive(diagram, v=(0.0, 1.0, 0.01), x=(0, 10, 0.1), ct=(0, 10, 0.1), vlr_max=(5, 25, 1))\n",
    "output = interactive_plot.children[-1]\n",
    "interactive_plot"
   ]
  },
  {
   "cell_type": "markdown",
   "id": "fde27761",
   "metadata": {},
   "source": [
    "### Gráfico do comportamento do gamma dependendo da velocidade"
   ]
  },
  {
   "cell_type": "code",
   "execution_count": 516,
   "id": "9b2a7e42-f264-4a48-9bf3-8bd7e7f82321",
   "metadata": {},
   "outputs": [
    {
     "data": {
      "image/png": "[encoded data removed]",
      "text/plain": [
       "<Figure size 640x480 with 1 Axes>"
      ]
     },
     "metadata": {},
     "output_type": "display_data"
    }
   ],
   "source": [
    "step = 1e-5\n",
    "\n",
    "# Quanto maior o \"step\" do eixo x, mais dá para notar que o gamma tende à infinito \n",
    "velocidades = np.arange(0*c, 1*c, step*c)\n",
    "gammas = []\n",
    "\n",
    "for vel in velocidades:\n",
    "    gamma = calcula_gamma(vel)\n",
    "    gammas.append(gamma)\n",
    "    \n",
    "# Plotando gráfico do gamma por velocidade\n",
    "plt.plot(velocidades, gammas)\n",
    "plt.title('Fator de Lorentz por Velocidade')\n",
    "plt.xlabel('Velocidade')\n",
    "plt.ylabel('Gamma')\n",
    "plt.show()"
   ]
  },
  {
   "cell_type": "markdown",
   "id": "c5a318bc",
   "metadata": {},
   "source": [
    "**Conclusões:**\n",
    "- Quanto menor a velocidade, gamma tende à 1;\n",
    "- Quanto maior a velocidade, gamma tende à infinito;\n",
    "- Quanto menor for o step, maior será a aproximação para infinito quando a velocidade tender à 1c. Isso se deve pela limitação computacional que temos ao lidar com números muito grandes.\n",
    "\n",
    "---"
   ]
  },
  {
   "cell_type": "code",
   "execution_count": 420,
   "id": "50d9c1e3-1f02-451c-9d7f-3b760c438789",
   "metadata": {},
   "outputs": [
    {
     "data": {
      "image/png": "[encoded data removed]",
      "text/plain": [
       "<Figure size 640x480 with 1 Axes>"
      ]
     },
     "metadata": {},
     "output_type": "display_data"
    }
   ],
   "source": [
    "mpl.rcParams['lines.color'] = 'k'\n",
    "mpl.rcParams['axes.prop_cycle'] = mpl.cycler('color', ['k'])\n",
    "\n",
    "x = np.linspace(-9, 9, 400)\n",
    "y = np.linspace(-5, 5, 400)\n",
    "x, y = np.meshgrid(x, y)\n",
    "\n",
    "def axes():\n",
    "    plt.axhline(0, alpha=.1)\n",
    "    plt.axvline(0, alpha=.1)\n",
    "\n",
    "a = 2.\n",
    "b = 1.\n",
    "axes()\n",
    "plt.contour(x, y,(x**2/a**2 - y**2/b**2), [1], colors='k')\n",
    "plt.show()"
   ]
  }
 ],
 "metadata": {
  "kernelspec": {
   "display_name": "Python 3 (ipykernel)",
   "language": "python",
   "name": "python3"
  },
  "language_info": {
   "codemirror_mode": {
    "name": "ipython",
    "version": 3
   },
   "file_extension": ".py",
   "mimetype": "text/x-python",
   "name": "python",
   "nbconvert_exporter": "python",
   "pygments_lexer": "ipython3",
   "version": "3.10.7"
  },
  "vscode": {
   "interpreter": {
    "hash": "47eae24281d46f1ecdbec1cd19285368041270c54b1c2b8b9bbaef4fa6de68b3"
   }
  }
 },
 "nbformat": 4,
 "nbformat_minor": 5
}
